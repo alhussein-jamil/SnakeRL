{
 "cells": [
  {
   "cell_type": "code",
   "execution_count": 2,
   "metadata": {},
   "outputs": [
    {
     "name": "stdout",
     "output_type": "stream",
     "text": [
      "CPU time:  31.191230058670044\n"
     ]
    },
    {
     "ename": "ValueError",
     "evalue": "\nKernel launch configuration was not specified. Use the syntax:\n\nkernel_function[blockspergrid, threadsperblock](arg0, arg1, ..., argn)\n\nSee https://numba.readthedocs.io/en/stable/cuda/kernels.html#kernel-invocation for help.\n\n",
     "output_type": "error",
     "traceback": [
      "\u001b[1;31m---------------------------------------------------------------------------\u001b[0m",
      "\u001b[1;31mValueError\u001b[0m                                Traceback (most recent call last)",
      "Cell \u001b[1;32mIn[2], line 33\u001b[0m\n\u001b[0;32m     31\u001b[0m n \u001b[39m=\u001b[39m \u001b[39m1000000000\u001b[39m\n\u001b[0;32m     32\u001b[0m \u001b[39mprint\u001b[39m(\u001b[39m\"\u001b[39m\u001b[39mCPU time: \u001b[39m\u001b[39m\"\u001b[39m, sum_cpu(n))\n\u001b[1;32m---> 33\u001b[0m \u001b[39mprint\u001b[39m(\u001b[39m\"\u001b[39m\u001b[39mGPU time: \u001b[39m\u001b[39m\"\u001b[39m, sum_gpu(n))\n",
      "File \u001b[1;32mc:\\Users\\Ajvendetta\\AppData\\Local\\Programs\\Python\\Python310\\lib\\site-packages\\numba\\cuda\\dispatcher.py:616\u001b[0m, in \u001b[0;36mCUDADispatcher.__call__\u001b[1;34m(self, *args, **kwargs)\u001b[0m\n\u001b[0;32m    614\u001b[0m \u001b[39mdef\u001b[39;00m \u001b[39m__call__\u001b[39m(\u001b[39mself\u001b[39m, \u001b[39m*\u001b[39margs, \u001b[39m*\u001b[39m\u001b[39m*\u001b[39mkwargs):\n\u001b[0;32m    615\u001b[0m     \u001b[39m# An attempt to launch an unconfigured kernel\u001b[39;00m\n\u001b[1;32m--> 616\u001b[0m     \u001b[39mraise\u001b[39;00m \u001b[39mValueError\u001b[39;00m(missing_launch_config_msg)\n",
      "\u001b[1;31mValueError\u001b[0m: \nKernel launch configuration was not specified. Use the syntax:\n\nkernel_function[blockspergrid, threadsperblock](arg0, arg1, ..., argn)\n\nSee https://numba.readthedocs.io/en/stable/cuda/kernels.html#kernel-invocation for help.\n\n"
     ]
    }
   ],
   "source": [
    "#This program will test the difference of speed between CPU and GPU\n",
    "#The program will calculate the sum of 1 to 1000000000\n",
    "\n",
    "import numpy as np\n",
    "import time\n",
    "import numba\n",
    "from numba import cuda\n",
    "import math\n",
    "\n",
    "#CPU\n",
    "def sum_cpu(n):\n",
    "    start = time.time()\n",
    "    sum = 0\n",
    "    for i in range(n):\n",
    "        sum += i\n",
    "    end = time.time()\n",
    "    return end - start\n",
    "\n",
    "#GPU\n",
    "@cuda.jit\n",
    "def sum_gpu(n):\n",
    "    start = time.time()\n",
    "    sum = 0\n",
    "    for i in range(n):\n",
    "        sum += i\n",
    "    end = time.time()\n",
    "    return end - start\n",
    "\n",
    "#Main\n",
    "if __name__ == '__main__':\n",
    "    n = 1000000000\n",
    "    print(\"CPU time: \", sum_cpu(n))\n",
    "    print(\"GPU time: \", sum_gpu(n))\n",
    "    "
   ]
  },
  {
   "cell_type": "code",
   "execution_count": 2,
   "metadata": {},
   "outputs": [
    {
     "name": "stdout",
     "output_type": "stream",
     "text": [
      "Note: you may need to restart the kernel to use updated packages.\n"
     ]
    },
    {
     "name": "stderr",
     "output_type": "stream",
     "text": [
      "ERROR: Could not find a version that satisfies the requirement tensorflow<2.12 (from versions: 2.12.0rc0, 2.12.0rc1, 2.12.0)\n",
      "ERROR: No matching distribution found for tensorflow<2.12\n"
     ]
    }
   ],
   "source": [
    "pip install \"tensorflow<2.12\""
   ]
  }
 ],
 "metadata": {
  "kernelspec": {
   "display_name": "Python 3",
   "language": "python",
   "name": "python3"
  },
  "language_info": {
   "codemirror_mode": {
    "name": "ipython",
    "version": 3
   },
   "file_extension": ".py",
   "mimetype": "text/x-python",
   "name": "python",
   "nbconvert_exporter": "python",
   "pygments_lexer": "ipython3",
   "version": "3.11.2"
  },
  "orig_nbformat": 4
 },
 "nbformat": 4,
 "nbformat_minor": 2
}
